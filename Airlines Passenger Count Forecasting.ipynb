{
 "cells": [
  {
   "cell_type": "markdown",
   "metadata": {},
   "source": [
    "# Algorithm 1 Airlines Passenger Count Forecasting "
   ]
  },
  {
   "cell_type": "markdown",
   "metadata": {},
   "source": [
    "## Problem Statement:\n",
    "We have considered a situation where in a given year and month, our task is to predict the number of \n",
    "international airline passengers in units of 1000. We have considered a dataset where our data ranges from\n",
    "January 1949 to December 1960, or 12 years with 144 observations. "
   ]
  },
  {
   "cell_type": "markdown",
   "metadata": {},
   "source": [
    "Note: The Problem Statement is an example of univariate time series forecasting. The term \"univariate time series\" refers to a time series that consists of single (scalar) observations recorded sequentially over equal time increments."
   ]
  },
  {
   "cell_type": "markdown",
   "metadata": {},
   "source": [
    "### Step 1: Import csv files and data preprocessing\n",
    "Data preprocessing is a process of preparing the raw data and making it suitable for a machine learning model. It is the first and crucial step while creating a machine learning model"
   ]
  },
  {
   "cell_type": "markdown",
   "metadata": {},
   "source": [
    "##### Concept 1: What is Panda?\n",
    "Pandas is an open source Python package that is most widely used for data science/data analysis and machine learning tasks.\n",
    "It is built on top of another package named Numpy, which provides support for multi-dimensional arrays."
   ]
  },
  {
   "cell_type": "code",
   "execution_count": 8,
   "metadata": {},
   "outputs": [],
   "source": [
    "import pandas as pd     #Import pandas"
   ]
  },
  {
   "cell_type": "code",
   "execution_count": 9,
   "metadata": {},
   "outputs": [],
   "source": [
    "df=pd.read_csv(r\"C:\\Users\\siba\\Desktop\\AirPassengers.csv\") #Read CSV"
   ]
  },
  {
   "cell_type": "code",
   "execution_count": 10,
   "metadata": {},
   "outputs": [
    {
     "data": {
      "text/html": [
       "<div>\n",
       "<style scoped>\n",
       "    .dataframe tbody tr th:only-of-type {\n",
       "        vertical-align: middle;\n",
       "    }\n",
       "\n",
       "    .dataframe tbody tr th {\n",
       "        vertical-align: top;\n",
       "    }\n",
       "\n",
       "    .dataframe thead th {\n",
       "        text-align: right;\n",
       "    }\n",
       "</style>\n",
       "<table border=\"1\" class=\"dataframe\">\n",
       "  <thead>\n",
       "    <tr style=\"text-align: right;\">\n",
       "      <th></th>\n",
       "      <th>Month</th>\n",
       "      <th>#Passengers</th>\n",
       "    </tr>\n",
       "  </thead>\n",
       "  <tbody>\n",
       "    <tr>\n",
       "      <th>0</th>\n",
       "      <td>1949-01</td>\n",
       "      <td>112</td>\n",
       "    </tr>\n",
       "    <tr>\n",
       "      <th>1</th>\n",
       "      <td>1949-02</td>\n",
       "      <td>118</td>\n",
       "    </tr>\n",
       "    <tr>\n",
       "      <th>2</th>\n",
       "      <td>1949-03</td>\n",
       "      <td>132</td>\n",
       "    </tr>\n",
       "    <tr>\n",
       "      <th>3</th>\n",
       "      <td>1949-04</td>\n",
       "      <td>129</td>\n",
       "    </tr>\n",
       "    <tr>\n",
       "      <th>4</th>\n",
       "      <td>1949-05</td>\n",
       "      <td>121</td>\n",
       "    </tr>\n",
       "  </tbody>\n",
       "</table>\n",
       "</div>"
      ],
      "text/plain": [
       "     Month  #Passengers\n",
       "0  1949-01          112\n",
       "1  1949-02          118\n",
       "2  1949-03          132\n",
       "3  1949-04          129\n",
       "4  1949-05          121"
      ]
     },
     "execution_count": 10,
     "metadata": {},
     "output_type": "execute_result"
    }
   ],
   "source": [
    "df.head() #Display top 5 entries of the CSV File"
   ]
  },
  {
   "cell_type": "code",
   "execution_count": 12,
   "metadata": {},
   "outputs": [
    {
     "data": {
      "text/html": [
       "<div>\n",
       "<style scoped>\n",
       "    .dataframe tbody tr th:only-of-type {\n",
       "        vertical-align: middle;\n",
       "    }\n",
       "\n",
       "    .dataframe tbody tr th {\n",
       "        vertical-align: top;\n",
       "    }\n",
       "\n",
       "    .dataframe thead th {\n",
       "        text-align: right;\n",
       "    }\n",
       "</style>\n",
       "<table border=\"1\" class=\"dataframe\">\n",
       "  <thead>\n",
       "    <tr style=\"text-align: right;\">\n",
       "      <th></th>\n",
       "      <th>Month</th>\n",
       "      <th>#Passengers</th>\n",
       "    </tr>\n",
       "  </thead>\n",
       "  <tbody>\n",
       "    <tr>\n",
       "      <th>0</th>\n",
       "      <td>1949-01</td>\n",
       "      <td>112</td>\n",
       "    </tr>\n",
       "    <tr>\n",
       "      <th>1</th>\n",
       "      <td>1949-02</td>\n",
       "      <td>118</td>\n",
       "    </tr>\n",
       "    <tr>\n",
       "      <th>2</th>\n",
       "      <td>1949-03</td>\n",
       "      <td>132</td>\n",
       "    </tr>\n",
       "    <tr>\n",
       "      <th>3</th>\n",
       "      <td>1949-04</td>\n",
       "      <td>129</td>\n",
       "    </tr>\n",
       "    <tr>\n",
       "      <th>4</th>\n",
       "      <td>1949-05</td>\n",
       "      <td>121</td>\n",
       "    </tr>\n",
       "  </tbody>\n",
       "</table>\n",
       "</div>"
      ],
      "text/plain": [
       "     Month  #Passengers\n",
       "0  1949-01          112\n",
       "1  1949-02          118\n",
       "2  1949-03          132\n",
       "3  1949-04          129\n",
       "4  1949-05          121"
      ]
     },
     "execution_count": 12,
     "metadata": {},
     "output_type": "execute_result"
    }
   ],
   "source": [
    "df.head() #Display last 5 entries of the CSV File"
   ]
  },
  {
   "cell_type": "markdown",
   "metadata": {},
   "source": [
    "##### Concept 2: What is Matplotlib?\n",
    "Matplotlib is a comprehensive library for creating static, animated, and interactive visualizations in Python."
   ]
  },
  {
   "cell_type": "code",
   "execution_count": 13,
   "metadata": {},
   "outputs": [],
   "source": [
    "import matplotlib.pyplot as plt  #import matplotlib"
   ]
  },
  {
   "cell_type": "markdown",
   "metadata": {},
   "source": [
    "##### Concept 3: What is iloc function?\n",
    "Pandas provide a unique method to retrieve rows from a Data frame. \n",
    "Dataframe.iloc[] method is used when the index label of a data frame is something other than numeric\n",
    "series of 0, 1, 2, 3….n or in case the user doesn’t know the index label.\n",
    "Rows can be extracted using an imaginary index position which isn’t visible in the data frame."
   ]
  },
  {
   "cell_type": "markdown",
   "metadata": {},
   "source": [
    "##### Concept 4: What is plot() function?\n",
    "The plot() function in pyplot module of matplotlib library is used to make a 2D hexagonal binning plot of points x, y.\n",
    "Parameters: This method accept the following parameters that are described below: \n",
    "        x, y: These parameter are the horizontal and vertical coordinates of the data points. x values are optional."
   ]
  },
  {
   "cell_type": "code",
   "execution_count": 14,
   "metadata": {},
   "outputs": [
    {
     "data": {
      "text/plain": [
       "[<matplotlib.lines.Line2D at 0x23bfde3bb20>]"
      ]
     },
     "execution_count": 14,
     "metadata": {},
     "output_type": "execute_result"
    },
    {
     "data": {
      "image/png": "[encoded data removed]",
      "text/plain": [
       "<Figure size 432x288 with 1 Axes>"
      ]
     },
     "metadata": {
      "needs_background": "light"
     },
     "output_type": "display_data"
    }
   ],
   "source": [
    "plt.plot(df.iloc[:,1]) #iloc[:,1:] will select all rows but your first column will be excluded from dataframe df\n",
    "                       #plotting a 2D hexagonal binning plot\n",
    "    #The graph plots the information present inside the CSV File\n",
    "    #It shows seasonal variation in number of passengers"
   ]
  },
  {
   "cell_type": "markdown",
   "metadata": {},
   "source": [
    "### Step 2: Data Transformation\n",
    "Data transformation is the process in which you take data from its raw, siloed and normalized source state and transform it into data that's joined together, dimensionally modeled, de-normalized, and ready for analysis. Denormalization is used to combine multiple table data into one so that it can be queried quickly."
   ]
  },
  {
   "cell_type": "markdown",
   "metadata": {},
   "source": [
    "#### Concept 5: What is MinMaxScaler?\n",
    "Transform features by scaling each feature to a given range. \n",
    "This estimator scales and translates each feature individually such that it is in the given range on the training set,\n",
    "e.g. between 0 and 1."
   ]
  },
  {
   "cell_type": "code",
   "execution_count": 15,
   "metadata": {},
   "outputs": [],
   "source": [
    "from sklearn.preprocessing import MinMaxScaler #Import MinMaxScaler"
   ]
  },
  {
   "cell_type": "code",
   "execution_count": 16,
   "metadata": {},
   "outputs": [
    {
     "data": {
      "text/plain": [
       "0      112\n",
       "1      118\n",
       "2      132\n",
       "3      129\n",
       "4      121\n",
       "      ... \n",
       "139    606\n",
       "140    508\n",
       "141    461\n",
       "142    390\n",
       "143    432\n",
       "Name: #Passengers, Length: 144, dtype: int64"
      ]
     },
     "execution_count": 16,
     "metadata": {},
     "output_type": "execute_result"
    }
   ],
   "source": [
    "df.iloc[:,1] #print all rows but your first column will be excluded from dataframe df"
   ]
  },
  {
   "cell_type": "markdown",
   "metadata": {},
   "source": [
    "##### Concept 6: What is fit_transform()?\n",
    "fit_transform() is used on the training data so that we can scale the training data and also learn the \n",
    "scaling parameters of that data.\n",
    "The fit method is calculating the mean and variance of each of the features present in our data."
   ]
  },
  {
   "cell_type": "code",
   "execution_count": 17,
   "metadata": {},
   "outputs": [],
   "source": [
    "scaler=MinMaxScaler(feature_range=(0,1)) #Scale data between range 0 and 1. It is called normalization\n",
    "df=scaler.fit_transform(df.iloc[:,1:]) #fit_transform is performed on data given by iloc function\n"
   ]
  },
  {
   "cell_type": "code",
   "execution_count": 18,
   "metadata": {},
   "outputs": [
    {
     "data": {
      "text/plain": [
       "array([[0.01544402],\n",
       "       [0.02702703],\n",
       "       [0.05405405],\n",
       "       [0.04826255],\n",
       "       [0.03281853],\n",
       "       [0.05984556],\n",
       "       [0.08494208],\n",
       "       [0.08494208],\n",
       "       [0.06177606],\n",
       "       [0.02895753],\n",
       "       [0.        ],\n",
       "       [0.02702703],\n",
       "       [0.02123552],\n",
       "       [0.04247104],\n",
       "       [0.07142857],\n",
       "       [0.05984556],\n",
       "       [0.04054054],\n",
       "       [0.08687259],\n",
       "       [0.12741313],\n",
       "       [0.12741313],\n",
       "       [0.1042471 ],\n",
       "       [0.05598456],\n",
       "       [0.01930502],\n",
       "       [0.06949807],\n",
       "       [0.07915058],\n",
       "       [0.08880309],\n",
       "       [0.14285714],\n",
       "       [0.11389961],\n",
       "       [0.13127413],\n",
       "       [0.14285714],\n",
       "       [0.18339768],\n",
       "       [0.18339768],\n",
       "       [0.15444015],\n",
       "       [0.11196911],\n",
       "       [0.08108108],\n",
       "       [0.11969112],\n",
       "       [0.12934363],\n",
       "       [0.14671815],\n",
       "       [0.17181467],\n",
       "       [0.14864865],\n",
       "       [0.15250965],\n",
       "       [0.22007722],\n",
       "       [0.24324324],\n",
       "       [0.26640927],\n",
       "       [0.2027027 ],\n",
       "       [0.16795367],\n",
       "       [0.13127413],\n",
       "       [0.17374517],\n",
       "       [0.17760618],\n",
       "       [0.17760618],\n",
       "       [0.25482625],\n",
       "       [0.25289575],\n",
       "       [0.24131274],\n",
       "       [0.26833977],\n",
       "       [0.30888031],\n",
       "       [0.32432432],\n",
       "       [0.25675676],\n",
       "       [0.20656371],\n",
       "       [0.14671815],\n",
       "       [0.18725869],\n",
       "       [0.19305019],\n",
       "       [0.16216216],\n",
       "       [0.25289575],\n",
       "       [0.23745174],\n",
       "       [0.25096525],\n",
       "       [0.30888031],\n",
       "       [0.38223938],\n",
       "       [0.36486486],\n",
       "       [0.2992278 ],\n",
       "       [0.24131274],\n",
       "       [0.19111969],\n",
       "       [0.24131274],\n",
       "       [0.26640927],\n",
       "       [0.24903475],\n",
       "       [0.31467181],\n",
       "       [0.31853282],\n",
       "       [0.32046332],\n",
       "       [0.40733591],\n",
       "       [0.5019305 ],\n",
       "       [0.46911197],\n",
       "       [0.4015444 ],\n",
       "       [0.32818533],\n",
       "       [0.25675676],\n",
       "       [0.33590734],\n",
       "       [0.34749035],\n",
       "       [0.33397683],\n",
       "       [0.41119691],\n",
       "       [0.4034749 ],\n",
       "       [0.41312741],\n",
       "       [0.52123552],\n",
       "       [0.5965251 ],\n",
       "       [0.58108108],\n",
       "       [0.48455598],\n",
       "       [0.38996139],\n",
       "       [0.32239382],\n",
       "       [0.38996139],\n",
       "       [0.40733591],\n",
       "       [0.38030888],\n",
       "       [0.48648649],\n",
       "       [0.47104247],\n",
       "       [0.48455598],\n",
       "       [0.61389961],\n",
       "       [0.6969112 ],\n",
       "       [0.7007722 ],\n",
       "       [0.57915058],\n",
       "       [0.46911197],\n",
       "       [0.38803089],\n",
       "       [0.44787645],\n",
       "       [0.45559846],\n",
       "       [0.41312741],\n",
       "       [0.4980695 ],\n",
       "       [0.47104247],\n",
       "       [0.5       ],\n",
       "       [0.63899614],\n",
       "       [0.74710425],\n",
       "       [0.77413127],\n",
       "       [0.57915058],\n",
       "       [0.49227799],\n",
       "       [0.3976834 ],\n",
       "       [0.44980695],\n",
       "       [0.49420849],\n",
       "       [0.45945946],\n",
       "       [0.58301158],\n",
       "       [0.56370656],\n",
       "       [0.61003861],\n",
       "       [0.71042471],\n",
       "       [0.85714286],\n",
       "       [0.87837838],\n",
       "       [0.69305019],\n",
       "       [0.58494208],\n",
       "       [0.4980695 ],\n",
       "       [0.58108108],\n",
       "       [0.6042471 ],\n",
       "       [0.55405405],\n",
       "       [0.60810811],\n",
       "       [0.68918919],\n",
       "       [0.71042471],\n",
       "       [0.83204633],\n",
       "       [1.        ],\n",
       "       [0.96911197],\n",
       "       [0.77992278],\n",
       "       [0.68918919],\n",
       "       [0.55212355],\n",
       "       [0.63320463]])"
      ]
     },
     "execution_count": 18,
     "metadata": {},
     "output_type": "execute_result"
    }
   ],
   "source": [
    "df   #We print our dataframe to view its contents\n",
    "#We can see that all values lie between 0 and 1"
   ]
  },
  {
   "cell_type": "code",
   "execution_count": 19,
   "metadata": {},
   "outputs": [
    {
     "data": {
      "text/plain": [
       "(144, 1)"
      ]
     },
     "execution_count": 19,
     "metadata": {},
     "output_type": "execute_result"
    }
   ],
   "source": [
    "df.shape #total rows and columns in df"
   ]
  },
  {
   "cell_type": "markdown",
   "metadata": {},
   "source": [
    "### Step 3: Data Handling for Input to LSTM"
   ]
  },
  {
   "cell_type": "code",
   "execution_count": 20,
   "metadata": {},
   "outputs": [],
   "source": [
    "#We divide our dataset df into two parts\n",
    "#One acts like training data and other acts like testing data\n",
    "training_size=int(len(df)*0.65) #We allocated first 65% of our dataset to the training set\n"
   ]
  },
  {
   "cell_type": "code",
   "execution_count": 21,
   "metadata": {},
   "outputs": [
    {
     "data": {
      "text/plain": [
       "93"
      ]
     },
     "execution_count": 21,
     "metadata": {},
     "output_type": "execute_result"
    }
   ],
   "source": [
    "training_size #Our first 93 records form the training set"
   ]
  },
  {
   "cell_type": "code",
   "execution_count": 22,
   "metadata": {},
   "outputs": [],
   "source": [
    "test_size=len(df)-training_size #So number of records in testing set= Total records in df-Number of records in training set"
   ]
  },
  {
   "cell_type": "code",
   "execution_count": 23,
   "metadata": {},
   "outputs": [
    {
     "data": {
      "text/plain": [
       "51"
      ]
     },
     "execution_count": 23,
     "metadata": {},
     "output_type": "execute_result"
    }
   ],
   "source": [
    "test_size #Its value is printed here"
   ]
  },
  {
   "cell_type": "code",
   "execution_count": 24,
   "metadata": {},
   "outputs": [],
   "source": [
    "train_data,test_data=df[0:training_size,:],df[training_size:len(df),:1] \n",
    "#We are storing records from row 0 to row 93 (training data records) into a dataframe train_data\n",
    "#We are storing records from row 94 to last row (testing data records) into a dataframe test_data"
   ]
  },
  {
   "cell_type": "code",
   "execution_count": 25,
   "metadata": {},
   "outputs": [
    {
     "data": {
      "text/plain": [
       "array([[0.38996139],\n",
       "       [0.32239382],\n",
       "       [0.38996139],\n",
       "       [0.40733591],\n",
       "       [0.38030888],\n",
       "       [0.48648649],\n",
       "       [0.47104247],\n",
       "       [0.48455598],\n",
       "       [0.61389961],\n",
       "       [0.6969112 ],\n",
       "       [0.7007722 ],\n",
       "       [0.57915058],\n",
       "       [0.46911197],\n",
       "       [0.38803089],\n",
       "       [0.44787645],\n",
       "       [0.45559846],\n",
       "       [0.41312741],\n",
       "       [0.4980695 ],\n",
       "       [0.47104247],\n",
       "       [0.5       ],\n",
       "       [0.63899614],\n",
       "       [0.74710425],\n",
       "       [0.77413127],\n",
       "       [0.57915058],\n",
       "       [0.49227799],\n",
       "       [0.3976834 ],\n",
       "       [0.44980695],\n",
       "       [0.49420849],\n",
       "       [0.45945946],\n",
       "       [0.58301158],\n",
       "       [0.56370656],\n",
       "       [0.61003861],\n",
       "       [0.71042471],\n",
       "       [0.85714286],\n",
       "       [0.87837838],\n",
       "       [0.69305019],\n",
       "       [0.58494208],\n",
       "       [0.4980695 ],\n",
       "       [0.58108108],\n",
       "       [0.6042471 ],\n",
       "       [0.55405405],\n",
       "       [0.60810811],\n",
       "       [0.68918919],\n",
       "       [0.71042471],\n",
       "       [0.83204633],\n",
       "       [1.        ],\n",
       "       [0.96911197],\n",
       "       [0.77992278],\n",
       "       [0.68918919],\n",
       "       [0.55212355],\n",
       "       [0.63320463]])"
      ]
     },
     "execution_count": 25,
     "metadata": {},
     "output_type": "execute_result"
    }
   ],
   "source": [
    "test_data #Displaying values stored inside df test_data"
   ]
  },
  {
   "cell_type": "markdown",
   "metadata": {},
   "source": [
    "##### Concept 6: What is Numpy?\n",
    "NumPy is a Python library used for working with arrays. \n",
    "It also has functions for working in domain of linear algebra, fourier transform, and matrices. "
   ]
  },
  {
   "cell_type": "code",
   "execution_count": 26,
   "metadata": {},
   "outputs": [],
   "source": [
    "import numpy\n",
    "# convert an array of values into a dataset matrix\n",
    "def create_dataset(dataset, time_step=1):   #Create dataset is a function that takes inputs such as dataset and time step\n",
    "                                            #Time step value is assigned by user but by default it is 1\n",
    "\tdataX, dataY = [], []        #dataX is our training df and dataY is test df\n",
    "\tfor i in range(len(dataset)-time_step-1):#for value of i belonging to range(length of dataset- time_step-1) loop will run\n",
    "\t\ta = dataset[i:(i+time_step), 0]   ###Say time_steps=4, elements would be 0,1,2,3 (so count is 4 i.e our time_steps)\n",
    "\t\tdataX.append(a) #So the elements 0,1,2,3 calculated in the previous step will be stored in dataX df\n",
    "\t\tdataY.append(dataset[i + time_step, 0]) #The data given by i+time_step gets stored in dataY it is our test/output data\n",
    "                                                #test data/output data is dependent on training data elements (here 0,1,2,3)\n",
    "\treturn numpy.array(dataX), numpy.array(dataY) #function returns 2 dfs- dataX(training set), dataY (testing set)"
   ]
  },
  {
   "cell_type": "code",
   "execution_count": 27,
   "metadata": {},
   "outputs": [],
   "source": [
    "# reshape into X=t,t+1,t+2,t+3 and Y=t+4\n",
    "time_step = 4            #Say time_step is 4 (Assumed/Hardcoded)\n",
    "X_train, y_train = create_dataset(train_data, time_step) #We call create_dataset function and their returned values are stored\n",
    "                                                         #X_train --> dataX, Y_train -->dataY ; both for training set\n",
    "X_test, ytest = create_dataset(test_data, time_step)     #X_test --> dataX, Y_test -->dataY ; both for testing set"
   ]
  },
  {
   "cell_type": "code",
   "execution_count": 29,
   "metadata": {},
   "outputs": [],
   "source": [
    "import numpy as np\n",
    "# reshape input to be [samples, time steps, features] which is required for LSTM\n",
    "X_train =X_train.reshape(X_train.shape[0], 4, 1)\n",
    "X_test = X_test.reshape(X_test.shape[0], 4, 1)"
   ]
  },
  {
   "cell_type": "code",
   "execution_count": 30,
   "metadata": {},
   "outputs": [
    {
     "data": {
      "text/plain": [
       "(88, 4, 1)"
      ]
     },
     "execution_count": 30,
     "metadata": {},
     "output_type": "execute_result"
    }
   ],
   "source": [
    "X_train.shape   #As we can see the reshaping done in previous step is successfull"
   ]
  },
  {
   "cell_type": "markdown",
   "metadata": {},
   "source": [
    "### Step 4: Machine Learning Model Implementation: LSTM"
   ]
  },
  {
   "cell_type": "markdown",
   "metadata": {},
   "source": [
    "##### Concept 7: What is RNN?\n",
    "Recurrent Neural Network(RNN) are a type of Neural Network where the output from previous step are\n",
    "fed as input to the current step. ... It uses the same parameters for each input as it performs the same task on all the inputs\n",
    "or hidden layers to produce the output."
   ]
  },
  {
   "cell_type": "markdown",
   "metadata": {},
   "source": [
    "#### Concept 8: What is LSTM?\n",
    "Long short-term memory (LSTM) is an artificial recurrent neural network (RNN) architecture used in the field of deep learning.  LSTM networks are well-suited to classifying, processing and making predictions based on time series data, \n",
    "since there can be lags of unknown duration between important events in a time series.\n",
    "\n"
   ]
  },
  {
   "cell_type": "markdown",
   "metadata": {},
   "source": [
    "##### Concept 9: What is Tensorflow and Keras?\n",
    "Keras is a neural network library while TensorFlow is the open-source library for a number of various tasks\n",
    "in machine learning. TensorFlow provides both high-level and low-level APIs while Keras provides only high-level APIs.\n",
    "Both frameworks thus provide high-level APIs for building and training models with ease."
   ]
  },
  {
   "cell_type": "markdown",
   "metadata": {},
   "source": [
    "#### Concept 10: What is a stacked LTSM?\n",
    "A Stacked LSTM architecture can be defined as an LSTM model comprised of multiple LSTM layers.\n",
    "An LSTM layer above provides a sequence output rather than a single value output to the LSTM layer below. \n",
    "Specifically, one output per input time step, rather than one output time step for all input time steps."
   ]
  },
  {
   "cell_type": "markdown",
   "metadata": {},
   "source": [
    "##### Concept 11: What are Sequential and Dense libraries?\n",
    "1) Sequential: A Sequential model is appropriate for a plain stack of layers where each layer has exactly one input tensor and one output tensor\n",
    "    which is exactly what Stacked LTSM is all about.\n",
    "    \n",
    "2) Dense: The dense layer is a neural network layer that is connected deeply, \n",
    "    which means each neuron in the dense layer receives input from all neurons of its previous layer. \n",
    "    The dense layer is found to be the most commonly used layer in the models. It gives a m-sized vector as output.\n",
    "    "
   ]
  },
  {
   "cell_type": "code",
   "execution_count": 31,
   "metadata": {},
   "outputs": [],
   "source": [
    "# Create the LSTM model\n",
    "#Importing libraries\n",
    "from tensorflow.keras.models import Sequential\n",
    "from tensorflow.keras.layers import Dense\n",
    "from tensorflow.keras.layers import LSTM\n"
   ]
  },
  {
   "cell_type": "markdown",
   "metadata": {},
   "source": [
    "##### Concept 12: What is compilation in Keras model?\n",
    "Before training the model we need to compile it and define the loss function, optimizers for prediction. We compile the model using . compile() method. \n",
    "1) Optimizer:\n",
    "Optimizers are Classes or methods used to change the attributes of your machine/deep learning model such as weights\n",
    "and learning rate in order to reduce the losses.\n",
    "Optimizer used here:\n",
    "Adam is a replacement optimization that can handle sparse gradients on noisy problems.\n",
    "In the context of deep learning, sparse gradients imply a network is not receiving strong enough signals to tune its weights\n",
    "\n",
    "2) Loss:It is calculated as the average of the absolute difference between the actual and predicted values.\n",
    "Loss used here: Mean squared error. It is calculated as the average of the squared differences \n",
    "between the predicted and actual values."
   ]
  },
  {
   "cell_type": "markdown",
   "metadata": {},
   "source": [
    "##### Concept 13: What is epoch, batch_size,verbose?\n",
    "1) Epochs: One Epoch is when an ENTIRE dataset is passed forward and backward through the neural network only ONCE.\n",
    "    Since one epoch is too big to feed to the computer at once we divide it in several smaller batches.\n",
    "\n",
    "2) Batch_size: the number of training examples in one forward/backward pass.\n",
    "\n",
    "3) verbose: his flag allows you to write regular expressions that look nicer and are more readable by allowing you to visually separate \n",
    "    logical sections of the pattern and add comments.\n",
    "    verbose = 1, which includes both progress bar and one line per epoch.\n",
    "    verbose = 0, means silent.\n",
    "    verbose = 2, one line per epoch i.e. epoch no./total no. of epochs."
   ]
  },
  {
   "cell_type": "code",
   "execution_count": 32,
   "metadata": {},
   "outputs": [
    {
     "name": "stdout",
     "output_type": "stream",
     "text": [
      "Epoch 1/100\n",
      "88/88 [==============================] - 29s 199ms/step - loss: 0.0420 - val_loss: 0.0593\n",
      "Epoch 2/100\n",
      "88/88 [==============================] - 0s 5ms/step - loss: 0.0095 - val_loss: 0.0425\n",
      "Epoch 3/100\n",
      "88/88 [==============================] - 0s 5ms/step - loss: 0.0070 - val_loss: 0.0291\n",
      "Epoch 4/100\n",
      "88/88 [==============================] - 0s 5ms/step - loss: 0.0047 - val_loss: 0.0330\n",
      "Epoch 5/100\n",
      "88/88 [==============================] - 0s 5ms/step - loss: 0.0087 - val_loss: 0.0263\n",
      "Epoch 6/100\n",
      "88/88 [==============================] - 0s 5ms/step - loss: 0.0050 - val_loss: 0.0263\n",
      "Epoch 7/100\n",
      "88/88 [==============================] - 0s 5ms/step - loss: 0.0047 - val_loss: 0.0327\n",
      "Epoch 8/100\n",
      "88/88 [==============================] - 0s 5ms/step - loss: 0.0062 - val_loss: 0.0232\n",
      "Epoch 9/100\n",
      "88/88 [==============================] - 0s 5ms/step - loss: 0.0045 - val_loss: 0.0254\n",
      "Epoch 10/100\n",
      "88/88 [==============================] - 1s 7ms/step - loss: 0.0047 - val_loss: 0.0224\n",
      "Epoch 11/100\n",
      "88/88 [==============================] - 1s 6ms/step - loss: 0.0054 - val_loss: 0.0199\n",
      "Epoch 12/100\n",
      "88/88 [==============================] - 0s 5ms/step - loss: 0.0051 - val_loss: 0.0247\n",
      "Epoch 13/100\n",
      "88/88 [==============================] - 0s 5ms/step - loss: 0.0044 - val_loss: 0.0186\n",
      "Epoch 14/100\n",
      "88/88 [==============================] - 0s 5ms/step - loss: 0.0043 - val_loss: 0.0157\n",
      "Epoch 15/100\n",
      "88/88 [==============================] - 0s 4ms/step - loss: 0.0038 - val_loss: 0.0851\n",
      "Epoch 16/100\n",
      "88/88 [==============================] - 0s 5ms/step - loss: 0.0045 - val_loss: 0.0125\n",
      "Epoch 17/100\n",
      "88/88 [==============================] - 0s 5ms/step - loss: 0.0030 - val_loss: 0.0101\n",
      "Epoch 18/100\n",
      "88/88 [==============================] - 0s 5ms/step - loss: 0.0024 - val_loss: 0.0117\n",
      "Epoch 19/100\n",
      "88/88 [==============================] - 0s 5ms/step - loss: 0.0027 - val_loss: 0.0118\n",
      "Epoch 20/100\n",
      "88/88 [==============================] - 0s 5ms/step - loss: 0.0020 - val_loss: 0.0156\n",
      "Epoch 21/100\n",
      "88/88 [==============================] - 0s 5ms/step - loss: 0.0033 - val_loss: 0.0068\n",
      "Epoch 22/100\n",
      "88/88 [==============================] - 0s 5ms/step - loss: 0.0029 - val_loss: 0.0080\n",
      "Epoch 23/100\n",
      "88/88 [==============================] - 1s 7ms/step - loss: 0.0017 - val_loss: 0.0239\n",
      "Epoch 24/100\n",
      "88/88 [==============================] - 1s 6ms/step - loss: 0.0047 - val_loss: 0.0079\n",
      "Epoch 25/100\n",
      "88/88 [==============================] - 0s 5ms/step - loss: 0.0015 - val_loss: 0.0085\n",
      "Epoch 26/100\n",
      "88/88 [==============================] - 0s 5ms/step - loss: 0.0020 - val_loss: 0.0087\n",
      "Epoch 27/100\n",
      "88/88 [==============================] - 0s 5ms/step - loss: 0.0020 - val_loss: 0.0076\n",
      "Epoch 28/100\n",
      "88/88 [==============================] - 0s 5ms/step - loss: 0.0020 - val_loss: 0.0088\n",
      "Epoch 29/100\n",
      "88/88 [==============================] - 0s 5ms/step - loss: 0.0015 - val_loss: 0.0081\n",
      "Epoch 30/100\n",
      "88/88 [==============================] - 0s 5ms/step - loss: 0.0015 - val_loss: 0.0158\n",
      "Epoch 31/100\n",
      "88/88 [==============================] - 0s 5ms/step - loss: 0.0017 - val_loss: 0.0101\n",
      "Epoch 32/100\n",
      "88/88 [==============================] - 0s 5ms/step - loss: 0.0024 - val_loss: 0.0119\n",
      "Epoch 33/100\n",
      "88/88 [==============================] - 0s 5ms/step - loss: 0.0022 - val_loss: 0.0160\n",
      "Epoch 34/100\n",
      "88/88 [==============================] - 0s 5ms/step - loss: 0.0017 - val_loss: 0.0085\n",
      "Epoch 35/100\n",
      "88/88 [==============================] - 0s 5ms/step - loss: 0.0018 - val_loss: 0.0148\n",
      "Epoch 36/100\n",
      "88/88 [==============================] - 1s 6ms/step - loss: 0.0025 - val_loss: 0.0181\n",
      "Epoch 37/100\n",
      "88/88 [==============================] - 1s 6ms/step - loss: 0.0018 - val_loss: 0.0083\n",
      "Epoch 38/100\n",
      "88/88 [==============================] - 0s 5ms/step - loss: 0.0021 - val_loss: 0.0225\n",
      "Epoch 39/100\n",
      "88/88 [==============================] - 0s 5ms/step - loss: 0.0023 - val_loss: 0.0089\n",
      "Epoch 40/100\n",
      "88/88 [==============================] - 0s 5ms/step - loss: 0.0028 - val_loss: 0.0114\n",
      "Epoch 41/100\n",
      "88/88 [==============================] - 0s 5ms/step - loss: 0.0017 - val_loss: 0.0101\n",
      "Epoch 42/100\n",
      "88/88 [==============================] - 0s 5ms/step - loss: 0.0021 - val_loss: 0.0085\n",
      "Epoch 43/100\n",
      "88/88 [==============================] - 0s 5ms/step - loss: 0.0016 - val_loss: 0.0078\n",
      "Epoch 44/100\n",
      "88/88 [==============================] - 0s 4ms/step - loss: 0.0018 - val_loss: 0.0084\n",
      "Epoch 45/100\n",
      "88/88 [==============================] - 0s 5ms/step - loss: 0.0017 - val_loss: 0.0085\n",
      "Epoch 46/100\n",
      "88/88 [==============================] - 0s 5ms/step - loss: 0.0017 - val_loss: 0.0076\n",
      "Epoch 47/100\n",
      "88/88 [==============================] - 0s 5ms/step - loss: 0.0018 - val_loss: 0.0094\n",
      "Epoch 48/100\n",
      "88/88 [==============================] - 0s 5ms/step - loss: 0.0019 - val_loss: 0.0110\n",
      "Epoch 49/100\n",
      "88/88 [==============================] - 1s 6ms/step - loss: 0.0020 - val_loss: 0.0082\n",
      "Epoch 50/100\n",
      "88/88 [==============================] - 1s 6ms/step - loss: 0.0021 - val_loss: 0.0076\n",
      "Epoch 51/100\n",
      "88/88 [==============================] - 0s 5ms/step - loss: 0.0018 - val_loss: 0.0117\n",
      "Epoch 52/100\n",
      "88/88 [==============================] - 0s 5ms/step - loss: 0.0023 - val_loss: 0.0143\n",
      "Epoch 53/100\n",
      "88/88 [==============================] - 0s 5ms/step - loss: 0.0029 - val_loss: 0.0178\n",
      "Epoch 54/100\n",
      "88/88 [==============================] - 0s 5ms/step - loss: 0.0016 - val_loss: 0.0187\n",
      "Epoch 55/100\n",
      "88/88 [==============================] - 0s 5ms/step - loss: 0.0015 - val_loss: 0.0128\n",
      "Epoch 56/100\n",
      "88/88 [==============================] - 0s 4ms/step - loss: 0.0022 - val_loss: 0.0162\n",
      "Epoch 57/100\n",
      "88/88 [==============================] - 0s 4ms/step - loss: 0.0024 - val_loss: 0.0081\n",
      "Epoch 58/100\n",
      "88/88 [==============================] - 0s 6ms/step - loss: 0.0025 - val_loss: 0.0150\n",
      "Epoch 59/100\n",
      "88/88 [==============================] - 1s 7ms/step - loss: 0.0022 - val_loss: 0.0107\n",
      "Epoch 60/100\n",
      "88/88 [==============================] - 1s 9ms/step - loss: 0.0016 - val_loss: 0.0188\n",
      "Epoch 61/100\n",
      "88/88 [==============================] - 1s 8ms/step - loss: 0.0016 - val_loss: 0.0086\n",
      "Epoch 62/100\n",
      "88/88 [==============================] - 1s 8ms/step - loss: 0.0018 - val_loss: 0.0145\n",
      "Epoch 63/100\n",
      "88/88 [==============================] - 0s 5ms/step - loss: 0.0025 - val_loss: 0.0107\n",
      "Epoch 64/100\n",
      "88/88 [==============================] - 0s 5ms/step - loss: 0.0019 - val_loss: 0.0137\n",
      "Epoch 65/100\n",
      "88/88 [==============================] - 0s 5ms/step - loss: 0.0021 - val_loss: 0.0082\n",
      "Epoch 66/100\n",
      "88/88 [==============================] - 0s 5ms/step - loss: 0.0023 - val_loss: 0.0084\n",
      "Epoch 67/100\n",
      "88/88 [==============================] - 0s 5ms/step - loss: 0.0017 - val_loss: 0.0086\n",
      "Epoch 68/100\n",
      "88/88 [==============================] - 0s 5ms/step - loss: 0.0015 - val_loss: 0.0139\n",
      "Epoch 69/100\n",
      "88/88 [==============================] - 0s 5ms/step - loss: 0.0016 - val_loss: 0.0142\n",
      "Epoch 70/100\n",
      "88/88 [==============================] - 0s 5ms/step - loss: 0.0021 - val_loss: 0.0116\n",
      "Epoch 71/100\n",
      "88/88 [==============================] - 1s 6ms/step - loss: 0.0019 - val_loss: 0.0119\n",
      "Epoch 72/100\n",
      "88/88 [==============================] - 0s 5ms/step - loss: 0.0019 - val_loss: 0.0113\n",
      "Epoch 73/100\n",
      "88/88 [==============================] - 1s 6ms/step - loss: 0.0019 - val_loss: 0.0080\n",
      "Epoch 74/100\n",
      "88/88 [==============================] - 1s 7ms/step - loss: 0.0013 - val_loss: 0.0135\n",
      "Epoch 75/100\n",
      "88/88 [==============================] - 1s 6ms/step - loss: 0.0021 - val_loss: 0.0085\n",
      "Epoch 76/100\n",
      "88/88 [==============================] - 0s 5ms/step - loss: 0.0019 - val_loss: 0.0115\n",
      "Epoch 77/100\n",
      "88/88 [==============================] - 0s 5ms/step - loss: 0.0016 - val_loss: 0.0178\n",
      "Epoch 78/100\n",
      "88/88 [==============================] - 0s 5ms/step - loss: 0.0017 - val_loss: 0.0158\n",
      "Epoch 79/100\n",
      "88/88 [==============================] - 0s 6ms/step - loss: 0.0017 - val_loss: 0.0178\n",
      "Epoch 80/100\n",
      "88/88 [==============================] - 0s 5ms/step - loss: 0.0018 - val_loss: 0.0115\n",
      "Epoch 81/100\n",
      "88/88 [==============================] - 0s 5ms/step - loss: 0.0024 - val_loss: 0.0197\n",
      "Epoch 82/100\n",
      "88/88 [==============================] - 0s 5ms/step - loss: 0.0019 - val_loss: 0.0113\n",
      "Epoch 83/100\n",
      "88/88 [==============================] - 0s 5ms/step - loss: 0.0020 - val_loss: 0.0098\n",
      "Epoch 84/100\n",
      "88/88 [==============================] - 0s 5ms/step - loss: 0.0019 - val_loss: 0.0309\n",
      "Epoch 85/100\n",
      "88/88 [==============================] - 0s 5ms/step - loss: 0.0018 - val_loss: 0.0152\n",
      "Epoch 86/100\n",
      "88/88 [==============================] - 1s 7ms/step - loss: 0.0020 - val_loss: 0.0087\n",
      "Epoch 87/100\n",
      "88/88 [==============================] - 1s 6ms/step - loss: 0.0020 - val_loss: 0.0095\n",
      "Epoch 88/100\n",
      "88/88 [==============================] - 1s 7ms/step - loss: 0.0021 - val_loss: 0.0159\n",
      "Epoch 89/100\n",
      "88/88 [==============================] - 0s 5ms/step - loss: 0.0015 - val_loss: 0.0132\n",
      "Epoch 90/100\n",
      "88/88 [==============================] - 1s 6ms/step - loss: 0.0015 - val_loss: 0.0143\n",
      "Epoch 91/100\n",
      "88/88 [==============================] - 0s 5ms/step - loss: 0.0019 - val_loss: 0.0194\n",
      "Epoch 92/100\n",
      "88/88 [==============================] - 0s 5ms/step - loss: 0.0019 - val_loss: 0.0091\n",
      "Epoch 93/100\n",
      "88/88 [==============================] - 0s 5ms/step - loss: 0.0016 - val_loss: 0.0306\n",
      "Epoch 94/100\n",
      "88/88 [==============================] - 0s 5ms/step - loss: 0.0017 - val_loss: 0.0112\n",
      "Epoch 95/100\n",
      "88/88 [==============================] - 0s 5ms/step - loss: 0.0022 - val_loss: 0.0213\n",
      "Epoch 96/100\n",
      "88/88 [==============================] - 0s 5ms/step - loss: 0.0018 - val_loss: 0.0132\n",
      "Epoch 97/100\n",
      "88/88 [==============================] - 1s 6ms/step - loss: 0.0020 - val_loss: 0.0145\n",
      "Epoch 98/100\n",
      "88/88 [==============================] - 1s 6ms/step - loss: 0.0018 - val_loss: 0.0327\n",
      "Epoch 99/100\n",
      "88/88 [==============================] - 1s 7ms/step - loss: 0.0017 - val_loss: 0.0150\n",
      "Epoch 100/100\n",
      "88/88 [==============================] - 0s 6ms/step - loss: 0.0018 - val_loss: 0.0231\n"
     ]
    },
    {
     "data": {
      "text/plain": [
       "<tensorflow.python.keras.callbacks.History at 0x23ba76e1b80>"
      ]
     },
     "execution_count": 32,
     "metadata": {},
     "output_type": "execute_result"
    }
   ],
   "source": [
    "model=Sequential() #model used is sequential\n",
    "model.add(LSTM(50,return_sequences=True,input_shape=(4,1))) #hidden nodes=50, time_steps=4, num_features=1, add lstm layer\n",
    "model.add(LSTM(50)) #again adding lstm layer as it is stacked\n",
    "model.add(Dense(1)) #specifying the output shape using Dense\n",
    "\n",
    "model.compile(loss='mean_squared_error',optimizer='adam') #compile model\n",
    "\n",
    "model.fit(X_train,y_train,validation_data=(X_test,ytest),epochs=100,batch_size=1,verbose=1)\n",
    "#model.fit: fit() is for training the model with the given inputs (and corresponding training labels).\n",
    "\n",
    "#So here we get the loss values for every epoch (Fitting done for 100 epochs)"
   ]
  },
  {
   "cell_type": "markdown",
   "metadata": {},
   "source": [
    "##### Concept 14: What is model.predict()?\n",
    "Python predict() function enables us to predict the labels of the data values on the basis of the trained model. \n",
    "Thus, the predict() function works on top of the trained model and makes use of the learned label to map and \n",
    "predict the labels for the data to be tested."
   ]
  },
  {
   "cell_type": "markdown",
   "metadata": {},
   "source": [
    "##### Concept 15: What is Root Mean Square Error?\n",
    "Root Mean Squared Error. Root mean squared error (RMSE) is the square root of the mean of the square of all of the error. "
   ]
  },
  {
   "cell_type": "code",
   "execution_count": 33,
   "metadata": {},
   "outputs": [],
   "source": [
    "### Lets Do the prediction and check performance metrics\n",
    "### We are going to consider Root Mean Squared Error during prediction\n",
    "train_predict=model.predict(X_train) #predict X_train and store it in train_predict df\n",
    "test_predict=model.predict(X_test) #predict X_test data and store it in test_predict df"
   ]
  },
  {
   "cell_type": "code",
   "execution_count": 41,
   "metadata": {},
   "outputs": [
    {
     "data": {
      "text/plain": [
       "array([[287.37338],\n",
       "       [277.3349 ],\n",
       "       [364.5842 ],\n",
       "       [294.31653],\n",
       "       [343.24014],\n",
       "       [423.56845],\n",
       "       [409.30542],\n",
       "       [399.9283 ],\n",
       "       [300.23663],\n",
       "       [289.8317 ],\n",
       "       [259.80905],\n",
       "       [333.68472],\n",
       "       [300.74054],\n",
       "       [287.341  ],\n",
       "       [367.19403],\n",
       "       [290.54776],\n",
       "       [355.4736 ],\n",
       "       [433.85815],\n",
       "       [438.99747],\n",
       "       [428.70764],\n",
       "       [251.04794],\n",
       "       [328.39227],\n",
       "       [240.72952],\n",
       "       [335.8402 ],\n",
       "       [328.1995 ],\n",
       "       [300.12564],\n",
       "       [423.2299 ],\n",
       "       [310.5101 ],\n",
       "       [415.9578 ],\n",
       "       [434.43234],\n",
       "       [507.17627],\n",
       "       [405.473  ],\n",
       "       [278.06152],\n",
       "       [325.33862],\n",
       "       [256.2676 ],\n",
       "       [393.999  ],\n",
       "       [340.70428],\n",
       "       [332.80023],\n",
       "       [406.94788],\n",
       "       [407.66367],\n",
       "       [392.1103 ],\n",
       "       [518.22217],\n",
       "       [521.55927],\n",
       "       [336.62473],\n",
       "       [291.31888],\n",
       "       [307.54303]], dtype=float32)"
      ]
     },
     "execution_count": 41,
     "metadata": {},
     "output_type": "execute_result"
    }
   ],
   "source": [
    "test_predict #after model.predict(), data in test_predict is displayed\n",
    "#This is our predicted data which is the solution of our problem, however, as we can see it is scaled to values between 0 & 1 \n",
    "#So we are going to denormalize it in the next step"
   ]
  },
  {
   "cell_type": "markdown",
   "metadata": {},
   "source": [
    "##### Concept 16: What is inverse_transform()?\n",
    "inverse_transform (X) Transforms data (denormalizes it) back to its original space."
   ]
  },
  {
   "cell_type": "code",
   "execution_count": 34,
   "metadata": {},
   "outputs": [],
   "source": [
    "##Transformback to original form (denormalization)\n",
    "train_predict=scaler.inverse_transform(train_predict)\n",
    "test_predict=scaler.inverse_transform(test_predict)"
   ]
  },
  {
   "cell_type": "code",
   "execution_count": 35,
   "metadata": {},
   "outputs": [
    {
     "data": {
      "text/plain": [
       "array([[287.37338],\n",
       "       [277.3349 ],\n",
       "       [364.5842 ],\n",
       "       [294.31653],\n",
       "       [343.24014],\n",
       "       [423.56845],\n",
       "       [409.30542],\n",
       "       [399.9283 ],\n",
       "       [300.23663],\n",
       "       [289.8317 ],\n",
       "       [259.80905],\n",
       "       [333.68472],\n",
       "       [300.74054],\n",
       "       [287.341  ],\n",
       "       [367.19403],\n",
       "       [290.54776],\n",
       "       [355.4736 ],\n",
       "       [433.85815],\n",
       "       [438.99747],\n",
       "       [428.70764],\n",
       "       [251.04794],\n",
       "       [328.39227],\n",
       "       [240.72952],\n",
       "       [335.8402 ],\n",
       "       [328.1995 ],\n",
       "       [300.12564],\n",
       "       [423.2299 ],\n",
       "       [310.5101 ],\n",
       "       [415.9578 ],\n",
       "       [434.43234],\n",
       "       [507.17627],\n",
       "       [405.473  ],\n",
       "       [278.06152],\n",
       "       [325.33862],\n",
       "       [256.2676 ],\n",
       "       [393.999  ],\n",
       "       [340.70428],\n",
       "       [332.80023],\n",
       "       [406.94788],\n",
       "       [407.66367],\n",
       "       [392.1103 ],\n",
       "       [518.22217],\n",
       "       [521.55927],\n",
       "       [336.62473],\n",
       "       [291.31888],\n",
       "       [307.54303]], dtype=float32)"
      ]
     },
     "execution_count": 35,
     "metadata": {},
     "output_type": "execute_result"
    }
   ],
   "source": [
    "test_predict #This is our predicted data which is the solution of our problem\n",
    "#We have obtained this after denormalization."
   ]
  },
  {
   "cell_type": "code",
   "execution_count": 36,
   "metadata": {},
   "outputs": [
    {
     "data": {
      "text/plain": [
       "((88,), (88, 1))"
      ]
     },
     "execution_count": 36,
     "metadata": {},
     "output_type": "execute_result"
    }
   ],
   "source": [
    "y_train.shape,train_predict.shape #We can see here that the shapes of y_train and predict_train are same i.e 88"
   ]
  },
  {
   "cell_type": "code",
   "execution_count": 37,
   "metadata": {},
   "outputs": [
    {
     "data": {
      "text/plain": [
       "array([[126.579994],\n",
       "       [120.929695],\n",
       "       [133.4568  ],\n",
       "       [143.9912  ],\n",
       "       [143.87065 ],\n",
       "       [134.64822 ],\n",
       "       [121.1601  ],\n",
       "       [108.36889 ],\n",
       "       [118.25001 ],\n",
       "       [114.474655],\n",
       "       [123.715385],\n",
       "       [137.13078 ],\n",
       "       [132.01175 ],\n",
       "       [125.024506],\n",
       "       [146.64531 ],\n",
       "       [163.8481  ],\n",
       "       [163.02428 ],\n",
       "       [154.36751 ],\n",
       "       [133.85468 ],\n",
       "       [118.51596 ],\n",
       "       [139.37306 ],\n",
       "       [140.85292 ],\n",
       "       [145.92155 ],\n",
       "       [173.1158  ],\n",
       "       [156.02231 ],\n",
       "       [169.3234  ],\n",
       "       [173.54414 ],\n",
       "       [193.73492 ],\n",
       "       [190.19914 ],\n",
       "       [177.60944 ],\n",
       "       [159.94235 ],\n",
       "       [147.21819 ],\n",
       "       [165.39093 ],\n",
       "       [165.6859  ],\n",
       "       [174.71951 ],\n",
       "       [187.31369 ],\n",
       "       [173.78242 ],\n",
       "       [179.8977  ],\n",
       "       [214.7291  ],\n",
       "       [218.19418 ],\n",
       "       [232.6541  ],\n",
       "       [193.95251 ],\n",
       "       [188.78076 ],\n",
       "       [170.23624 ],\n",
       "       [193.4725  ],\n",
       "       [188.28886 ],\n",
       "       [189.70818 ],\n",
       "       [233.28812 ],\n",
       "       [219.14749 ],\n",
       "       [219.59697 ],\n",
       "       [237.75806 ],\n",
       "       [255.23724 ],\n",
       "       [257.44992 ],\n",
       "       [216.58826 ],\n",
       "       [205.64944 ],\n",
       "       [176.41998 ],\n",
       "       [202.53534 ],\n",
       "       [196.09401 ],\n",
       "       [180.63101 ],\n",
       "       [235.46101 ],\n",
       "       [209.76692 ],\n",
       "       [227.85063 ],\n",
       "       [258.802   ],\n",
       "       [292.6121  ],\n",
       "       [265.0787  ],\n",
       "       [239.44662 ],\n",
       "       [219.20964 ],\n",
       "       [197.33743 ],\n",
       "       [230.21811 ],\n",
       "       [231.15826 ],\n",
       "       [219.95456 ],\n",
       "       [265.78552 ],\n",
       "       [249.68709 ],\n",
       "       [258.21793 ],\n",
       "       [314.58765 ],\n",
       "       [350.09555 ],\n",
       "       [298.5565  ],\n",
       "       [285.37607 ],\n",
       "       [249.62547 ],\n",
       "       [222.06725 ],\n",
       "       [284.62216 ],\n",
       "       [261.18585 ],\n",
       "       [261.10684 ],\n",
       "       [317.14914 ],\n",
       "       [279.5471  ],\n",
       "       [305.38065 ],\n",
       "       [374.9284  ],\n",
       "       [378.18842 ]], dtype=float32)"
      ]
     },
     "execution_count": 37,
     "metadata": {},
     "output_type": "execute_result"
    }
   ],
   "source": [
    "train_predict #Displaying the values stored inside train_predict df"
   ]
  },
  {
   "cell_type": "code",
   "execution_count": 38,
   "metadata": {},
   "outputs": [
    {
     "data": {
      "text/plain": [
       "211.58042815641042"
      ]
     },
     "execution_count": 38,
     "metadata": {},
     "output_type": "execute_result"
    }
   ],
   "source": [
    "### Calculate Root Mean Squared Error performance metrics\n",
    "import math #import math library\n",
    "from sklearn.metrics import mean_squared_error #this library calculates mean_squared_error\n",
    "math.sqrt(mean_squared_error(y_train,train_predict)) #calculate root mean square error: \n",
    "                                                      #actual value: y_train, predicted value: train_predict"
   ]
  },
  {
   "cell_type": "code",
   "execution_count": 39,
   "metadata": {},
   "outputs": [
    {
     "data": {
      "text/plain": [
       "360.1904282678117"
      ]
     },
     "execution_count": 39,
     "metadata": {},
     "output_type": "execute_result"
    }
   ],
   "source": [
    "### Test Data Root Mean Squared Error\n",
    "math.sqrt(mean_squared_error(ytest,test_predict)) #Calculate Root Mean Squared Error for test data"
   ]
  },
  {
   "cell_type": "markdown",
   "metadata": {},
   "source": [
    "### Step 5: Display Results"
   ]
  },
  {
   "cell_type": "code",
   "execution_count": 40,
   "metadata": {},
   "outputs": [
    {
     "data": {
      "image/png": "[encoded data removed]",
      "text/plain": [
       "<Figure size 432x288 with 1 Axes>"
      ]
     },
     "metadata": {
      "needs_background": "light"
     },
     "output_type": "display_data"
    }
   ],
   "source": [
    "### Plotting \n",
    "import numpy\n",
    "# shift train predictions for plotting\n",
    "lookback=4                                #time_steps=4 which is called lookback\n",
    "trainPredictPlot = numpy.empty_like(df)#Return a new array trainPredictPlot with the same shape and type as a given array df\n",
    "trainPredictPlot[:, :] = numpy.nan #The [:, :] stands for everything from the beginning to the end\n",
    "                                    #taken empty/missing values\n",
    "trainPredictPlot[lookback:len(train_predict)+lookback, :] = train_predict #based on train_predict's length we take its data\n",
    "\n",
    "# shift test predictions for plotting\n",
    "testPredictPlot = numpy.empty_like(df)#Return a new array testPredictPlot with the same shape and type as a given array df\n",
    "testPredictPlot[:, :] = numpy.nan #The [:, :] stands for everything from the beginning to the end\n",
    "                                  #taken empty/missing values\n",
    "testPredictPlot[len(train_predict)+(lookback*2)+1:len(df)-1, :] = test_predict #based on test_predict's length we take its data\n",
    "\n",
    "# plot baseline and predictions\n",
    "plt.plot(scaler.inverse_transform(df)) #yellow colour in graph- it shows test data\n",
    "plt.plot(trainPredictPlot)             #blue colour in graph- it shows training data\n",
    "plt.plot(testPredictPlot)              #green colour in graph- it shows predicted data (Our solution)\n",
    "plt.show()\n"
   ]
  },
  {
   "cell_type": "markdown",
   "metadata": {},
   "source": [
    "# Algorithm 2: ARIMA"
   ]
  },
  {
   "cell_type": "markdown",
   "metadata": {},
   "source": [
    "### Step 1: Import csv files and data preprocessing\n",
    "\n",
    "#### Concept 1: What is ARIMA?\n",
    "1) ARIMA stands for Auto Regressive Integrated Moving Average.\n",
    "\n",
    "2) ARIMA is a simple time series model that we can use to train and then forecast future time points.\n",
    "\n",
    "3) ARIMA can capture complex relationships as it takes error terms (difference between actual and predicted values) and observations of lagged terms (fixed amount of passing time). \n",
    "\n",
    "4) These models rely on regressing a variable on past values."
   ]
  },
  {
   "cell_type": "code",
   "execution_count": 48,
   "metadata": {},
   "outputs": [],
   "source": [
    "import numpy as np\n",
    "import pandas as pd\n",
    "import matplotlib.pyplot as plt\n",
    "%matplotlib inline    \n",
    "#allows you to add plots to the browser interface"
   ]
  },
  {
   "cell_type": "code",
   "execution_count": 49,
   "metadata": {},
   "outputs": [],
   "source": [
    "df=pd.read_csv(r\"C:\\Users\\siba\\Desktop\\AirPassengers.csv\") #Read CSV"
   ]
  },
  {
   "cell_type": "code",
   "execution_count": 50,
   "metadata": {},
   "outputs": [
    {
     "data": {
      "text/html": [
       "<div>\n",
       "<style scoped>\n",
       "    .dataframe tbody tr th:only-of-type {\n",
       "        vertical-align: middle;\n",
       "    }\n",
       "\n",
       "    .dataframe tbody tr th {\n",
       "        vertical-align: top;\n",
       "    }\n",
       "\n",
       "    .dataframe thead th {\n",
       "        text-align: right;\n",
       "    }\n",
       "</style>\n",
       "<table border=\"1\" class=\"dataframe\">\n",
       "  <thead>\n",
       "    <tr style=\"text-align: right;\">\n",
       "      <th></th>\n",
       "      <th>Month</th>\n",
       "      <th>#Passengers</th>\n",
       "    </tr>\n",
       "  </thead>\n",
       "  <tbody>\n",
       "    <tr>\n",
       "      <th>0</th>\n",
       "      <td>1949-01</td>\n",
       "      <td>112</td>\n",
       "    </tr>\n",
       "    <tr>\n",
       "      <th>1</th>\n",
       "      <td>1949-02</td>\n",
       "      <td>118</td>\n",
       "    </tr>\n",
       "    <tr>\n",
       "      <th>2</th>\n",
       "      <td>1949-03</td>\n",
       "      <td>132</td>\n",
       "    </tr>\n",
       "    <tr>\n",
       "      <th>3</th>\n",
       "      <td>1949-04</td>\n",
       "      <td>129</td>\n",
       "    </tr>\n",
       "    <tr>\n",
       "      <th>4</th>\n",
       "      <td>1949-05</td>\n",
       "      <td>121</td>\n",
       "    </tr>\n",
       "  </tbody>\n",
       "</table>\n",
       "</div>"
      ],
      "text/plain": [
       "     Month  #Passengers\n",
       "0  1949-01          112\n",
       "1  1949-02          118\n",
       "2  1949-03          132\n",
       "3  1949-04          129\n",
       "4  1949-05          121"
      ]
     },
     "execution_count": 50,
     "metadata": {},
     "output_type": "execute_result"
    }
   ],
   "source": [
    "df.head()"
   ]
  },
  {
   "cell_type": "code",
   "execution_count": 51,
   "metadata": {},
   "outputs": [
    {
     "data": {
      "text/html": [
       "<div>\n",
       "<style scoped>\n",
       "    .dataframe tbody tr th:only-of-type {\n",
       "        vertical-align: middle;\n",
       "    }\n",
       "\n",
       "    .dataframe tbody tr th {\n",
       "        vertical-align: top;\n",
       "    }\n",
       "\n",
       "    .dataframe thead th {\n",
       "        text-align: right;\n",
       "    }\n",
       "</style>\n",
       "<table border=\"1\" class=\"dataframe\">\n",
       "  <thead>\n",
       "    <tr style=\"text-align: right;\">\n",
       "      <th></th>\n",
       "      <th>Month</th>\n",
       "      <th>#Passengers</th>\n",
       "    </tr>\n",
       "  </thead>\n",
       "  <tbody>\n",
       "    <tr>\n",
       "      <th>139</th>\n",
       "      <td>1960-08</td>\n",
       "      <td>606</td>\n",
       "    </tr>\n",
       "    <tr>\n",
       "      <th>140</th>\n",
       "      <td>1960-09</td>\n",
       "      <td>508</td>\n",
       "    </tr>\n",
       "    <tr>\n",
       "      <th>141</th>\n",
       "      <td>1960-10</td>\n",
       "      <td>461</td>\n",
       "    </tr>\n",
       "    <tr>\n",
       "      <th>142</th>\n",
       "      <td>1960-11</td>\n",
       "      <td>390</td>\n",
       "    </tr>\n",
       "    <tr>\n",
       "      <th>143</th>\n",
       "      <td>1960-12</td>\n",
       "      <td>432</td>\n",
       "    </tr>\n",
       "  </tbody>\n",
       "</table>\n",
       "</div>"
      ],
      "text/plain": [
       "       Month  #Passengers\n",
       "139  1960-08          606\n",
       "140  1960-09          508\n",
       "141  1960-10          461\n",
       "142  1960-11          390\n",
       "143  1960-12          432"
      ]
     },
     "execution_count": 51,
     "metadata": {},
     "output_type": "execute_result"
    }
   ],
   "source": [
    "df.tail()"
   ]
  },
  {
   "cell_type": "code",
   "execution_count": 52,
   "metadata": {},
   "outputs": [],
   "source": [
    "#Convert Month into Datetime\n",
    "df['Month']=pd.to_datetime(df['Month']) #converting string values in Month column to date"
   ]
  },
  {
   "cell_type": "code",
   "execution_count": 53,
   "metadata": {},
   "outputs": [
    {
     "data": {
      "text/html": [
       "<div>\n",
       "<style scoped>\n",
       "    .dataframe tbody tr th:only-of-type {\n",
       "        vertical-align: middle;\n",
       "    }\n",
       "\n",
       "    .dataframe tbody tr th {\n",
       "        vertical-align: top;\n",
       "    }\n",
       "\n",
       "    .dataframe thead th {\n",
       "        text-align: right;\n",
       "    }\n",
       "</style>\n",
       "<table border=\"1\" class=\"dataframe\">\n",
       "  <thead>\n",
       "    <tr style=\"text-align: right;\">\n",
       "      <th></th>\n",
       "      <th>Month</th>\n",
       "      <th>#Passengers</th>\n",
       "    </tr>\n",
       "  </thead>\n",
       "  <tbody>\n",
       "    <tr>\n",
       "      <th>0</th>\n",
       "      <td>1949-01-01</td>\n",
       "      <td>112</td>\n",
       "    </tr>\n",
       "    <tr>\n",
       "      <th>1</th>\n",
       "      <td>1949-02-01</td>\n",
       "      <td>118</td>\n",
       "    </tr>\n",
       "    <tr>\n",
       "      <th>2</th>\n",
       "      <td>1949-03-01</td>\n",
       "      <td>132</td>\n",
       "    </tr>\n",
       "    <tr>\n",
       "      <th>3</th>\n",
       "      <td>1949-04-01</td>\n",
       "      <td>129</td>\n",
       "    </tr>\n",
       "    <tr>\n",
       "      <th>4</th>\n",
       "      <td>1949-05-01</td>\n",
       "      <td>121</td>\n",
       "    </tr>\n",
       "  </tbody>\n",
       "</table>\n",
       "</div>"
      ],
      "text/plain": [
       "       Month  #Passengers\n",
       "0 1949-01-01          112\n",
       "1 1949-02-01          118\n",
       "2 1949-03-01          132\n",
       "3 1949-04-01          129\n",
       "4 1949-05-01          121"
      ]
     },
     "execution_count": 53,
     "metadata": {},
     "output_type": "execute_result"
    }
   ],
   "source": [
    "df.head()"
   ]
  },
  {
   "cell_type": "code",
   "execution_count": 54,
   "metadata": {},
   "outputs": [],
   "source": [
    "df.set_index('Month', inplace=True) #eleminating the index column"
   ]
  },
  {
   "cell_type": "code",
   "execution_count": 55,
   "metadata": {},
   "outputs": [
    {
     "data": {
      "text/html": [
       "<div>\n",
       "<style scoped>\n",
       "    .dataframe tbody tr th:only-of-type {\n",
       "        vertical-align: middle;\n",
       "    }\n",
       "\n",
       "    .dataframe tbody tr th {\n",
       "        vertical-align: top;\n",
       "    }\n",
       "\n",
       "    .dataframe thead th {\n",
       "        text-align: right;\n",
       "    }\n",
       "</style>\n",
       "<table border=\"1\" class=\"dataframe\">\n",
       "  <thead>\n",
       "    <tr style=\"text-align: right;\">\n",
       "      <th></th>\n",
       "      <th>#Passengers</th>\n",
       "    </tr>\n",
       "    <tr>\n",
       "      <th>Month</th>\n",
       "      <th></th>\n",
       "    </tr>\n",
       "  </thead>\n",
       "  <tbody>\n",
       "    <tr>\n",
       "      <th>1949-01-01</th>\n",
       "      <td>112</td>\n",
       "    </tr>\n",
       "    <tr>\n",
       "      <th>1949-02-01</th>\n",
       "      <td>118</td>\n",
       "    </tr>\n",
       "    <tr>\n",
       "      <th>1949-03-01</th>\n",
       "      <td>132</td>\n",
       "    </tr>\n",
       "    <tr>\n",
       "      <th>1949-04-01</th>\n",
       "      <td>129</td>\n",
       "    </tr>\n",
       "    <tr>\n",
       "      <th>1949-05-01</th>\n",
       "      <td>121</td>\n",
       "    </tr>\n",
       "  </tbody>\n",
       "</table>\n",
       "</div>"
      ],
      "text/plain": [
       "            #Passengers\n",
       "Month                  \n",
       "1949-01-01          112\n",
       "1949-02-01          118\n",
       "1949-03-01          132\n",
       "1949-04-01          129\n",
       "1949-05-01          121"
      ]
     },
     "execution_count": 55,
     "metadata": {},
     "output_type": "execute_result"
    }
   ],
   "source": [
    "df.head()"
   ]
  },
  {
   "cell_type": "code",
   "execution_count": 56,
   "metadata": {},
   "outputs": [
    {
     "data": {
      "text/html": [
       "<div>\n",
       "<style scoped>\n",
       "    .dataframe tbody tr th:only-of-type {\n",
       "        vertical-align: middle;\n",
       "    }\n",
       "\n",
       "    .dataframe tbody tr th {\n",
       "        vertical-align: top;\n",
       "    }\n",
       "\n",
       "    .dataframe thead th {\n",
       "        text-align: right;\n",
       "    }\n",
       "</style>\n",
       "<table border=\"1\" class=\"dataframe\">\n",
       "  <thead>\n",
       "    <tr style=\"text-align: right;\">\n",
       "      <th></th>\n",
       "      <th>#Passengers</th>\n",
       "    </tr>\n",
       "  </thead>\n",
       "  <tbody>\n",
       "    <tr>\n",
       "      <th>count</th>\n",
       "      <td>144.000000</td>\n",
       "    </tr>\n",
       "    <tr>\n",
       "      <th>mean</th>\n",
       "      <td>280.298611</td>\n",
       "    </tr>\n",
       "    <tr>\n",
       "      <th>std</th>\n",
       "      <td>119.966317</td>\n",
       "    </tr>\n",
       "    <tr>\n",
       "      <th>min</th>\n",
       "      <td>104.000000</td>\n",
       "    </tr>\n",
       "    <tr>\n",
       "      <th>25%</th>\n",
       "      <td>180.000000</td>\n",
       "    </tr>\n",
       "    <tr>\n",
       "      <th>50%</th>\n",
       "      <td>265.500000</td>\n",
       "    </tr>\n",
       "    <tr>\n",
       "      <th>75%</th>\n",
       "      <td>360.500000</td>\n",
       "    </tr>\n",
       "    <tr>\n",
       "      <th>max</th>\n",
       "      <td>622.000000</td>\n",
       "    </tr>\n",
       "  </tbody>\n",
       "</table>\n",
       "</div>"
      ],
      "text/plain": [
       "       #Passengers\n",
       "count   144.000000\n",
       "mean    280.298611\n",
       "std     119.966317\n",
       "min     104.000000\n",
       "25%     180.000000\n",
       "50%     265.500000\n",
       "75%     360.500000\n",
       "max     622.000000"
      ]
     },
     "execution_count": 56,
     "metadata": {},
     "output_type": "execute_result"
    }
   ],
   "source": [
    "df.describe() #shows arithmetic operations on #Passengers column"
   ]
  },
  {
   "cell_type": "markdown",
   "metadata": {},
   "source": [
    "### Step 2: Visualize data"
   ]
  },
  {
   "cell_type": "code",
   "execution_count": 57,
   "metadata": {},
   "outputs": [
    {
     "data": {
      "text/plain": [
       "<AxesSubplot:xlabel='Month'>"
      ]
     },
     "execution_count": 57,
     "metadata": {},
     "output_type": "execute_result"
    },
    {
     "data": {
      "image/png": "[encoded data removed]",
      "text/plain": [
       "<Figure size 432x288 with 1 Axes>"
      ]
     },
     "metadata": {
      "needs_background": "light"
     },
     "output_type": "display_data"
    }
   ],
   "source": [
    "df.plot() #generate plot for data"
   ]
  },
  {
   "cell_type": "code",
   "execution_count": 58,
   "metadata": {},
   "outputs": [],
   "source": [
    "#Test if data is stationary or not\n",
    "from statsmodels.tsa.stattools import adfuller"
   ]
  },
  {
   "cell_type": "markdown",
   "metadata": {},
   "source": [
    "#### Concept 2: What is adfuller?"
   ]
  },
  {
   "cell_type": "markdown",
   "metadata": {},
   "source": [
    "Augmented Dickey Fuller test ( ADF Test) is a common statistical test used to test whether\n",
    "a given Time series is stationary or not ."
   ]
  },
  {
   "cell_type": "markdown",
   "metadata": {},
   "source": [
    "#### Concept 3: What is stationary and non stationary time series?"
   ]
  },
  {
   "cell_type": "markdown",
   "metadata": {},
   "source": [
    "A stationary time series is one whose properties do not depend on the time at which the series is observed. \n",
    "Non stationary is vice versa"
   ]
  },
  {
   "cell_type": "code",
   "execution_count": 59,
   "metadata": {},
   "outputs": [],
   "source": [
    "test_result=adfuller(df['#Passengers']) #carry out ADF Test on our dataset"
   ]
  },
  {
   "cell_type": "code",
   "execution_count": 60,
   "metadata": {},
   "outputs": [],
   "source": [
    "#adfuller_test generates an array with the following 5 labels\n",
    "def adfuller_test(passengers):\n",
    "    result=adfuller(passengers)\n",
    "    labels=['ADF Test Statistic', 'p-value', '#Lags used', 'Number of Observations used']\n",
    "    for value,label in zip(result,labels): \n",
    "        print(label+' : '+str(value))\n",
    "    if result[1] <= 0.05: #if p=value <=0.05\n",
    "        print(\"Data is stationary\")\n",
    "    else:\n",
    "        print(\"Data is non-stationary\")\n",
    "        \n",
    "        #Now data is not stationary. We will make it stationary usig technique called differencing"
   ]
  },
  {
   "cell_type": "code",
   "execution_count": 61,
   "metadata": {},
   "outputs": [
    {
     "name": "stdout",
     "output_type": "stream",
     "text": [
      "ADF Test Statistic : 0.8153688792060569\n",
      "p-value : 0.9918802434376411\n",
      "#Lags used : 13\n",
      "Number of Observations used : 130\n",
      "Data is non-stationary\n"
     ]
    }
   ],
   "source": [
    "adfuller_test(df['#Passengers'])"
   ]
  },
  {
   "cell_type": "markdown",
   "metadata": {},
   "source": [
    "### Step 3:Differencing"
   ]
  },
  {
   "cell_type": "markdown",
   "metadata": {},
   "source": [
    "#### Concept 4: What is first difference in time series?"
   ]
  },
  {
   "cell_type": "markdown",
   "metadata": {},
   "source": [
    "The first difference of a time series is the series of changes from one period to the next."
   ]
  },
  {
   "cell_type": "markdown",
   "metadata": {},
   "source": [
    "#### Concept 5: What is seasonal difference in time series?"
   ]
  },
  {
   "cell_type": "markdown",
   "metadata": {},
   "source": [
    "The seasonal difference of a time series is the series of changes from one season to the next. "
   ]
  },
  {
   "cell_type": "code",
   "execution_count": 62,
   "metadata": {},
   "outputs": [],
   "source": [
    "df['Passengers First Difference'] = df['#Passengers']-df['#Passengers'].shift(1) #First difference calculation- shift=1"
   ]
  },
  {
   "cell_type": "code",
   "execution_count": 63,
   "metadata": {},
   "outputs": [
    {
     "data": {
      "text/plain": [
       "Month\n",
       "1949-01-01      NaN\n",
       "1949-02-01    112.0\n",
       "1949-03-01    118.0\n",
       "1949-04-01    132.0\n",
       "1949-05-01    129.0\n",
       "              ...  \n",
       "1960-08-01    622.0\n",
       "1960-09-01    606.0\n",
       "1960-10-01    508.0\n",
       "1960-11-01    461.0\n",
       "1960-12-01    390.0\n",
       "Name: #Passengers, Length: 144, dtype: float64"
      ]
     },
     "execution_count": 63,
     "metadata": {},
     "output_type": "execute_result"
    }
   ],
   "source": [
    "df['#Passengers'].shift(1) "
   ]
  },
  {
   "cell_type": "code",
   "execution_count": 64,
   "metadata": {},
   "outputs": [],
   "source": [
    "df['Seasonal First Difference'] = df['#Passengers']-df['#Passengers'].shift(12) #Seasonal difference calculation- shift=12"
   ]
  },
  {
   "cell_type": "code",
   "execution_count": 65,
   "metadata": {},
   "outputs": [
    {
     "data": {
      "text/plain": [
       "Month\n",
       "1949-01-01      NaN\n",
       "1949-02-01      NaN\n",
       "1949-03-01      NaN\n",
       "1949-04-01      NaN\n",
       "1949-05-01      NaN\n",
       "              ...  \n",
       "1960-08-01    559.0\n",
       "1960-09-01    463.0\n",
       "1960-10-01    407.0\n",
       "1960-11-01    362.0\n",
       "1960-12-01    405.0\n",
       "Name: #Passengers, Length: 144, dtype: float64"
      ]
     },
     "execution_count": 65,
     "metadata": {},
     "output_type": "execute_result"
    }
   ],
   "source": [
    "df['#Passengers'].shift(12)"
   ]
  },
  {
   "cell_type": "code",
   "execution_count": 66,
   "metadata": {},
   "outputs": [
    {
     "name": "stdout",
     "output_type": "stream",
     "text": [
      "ADF Test Statistic : -3.383020726492481\n",
      "p-value : 0.011551493085514952\n",
      "#Lags used : 1\n",
      "Number of Observations used : 130\n",
      "Data is stationary\n"
     ]
    }
   ],
   "source": [
    "#Again test dickey fuller test but this time on Seasonal first difference dataset and we also drop NaN values\n",
    "adfuller_test(df['Seasonal First Difference'].dropna()) \n",
    "\n",
    "#Now data is stationary"
   ]
  },
  {
   "cell_type": "code",
   "execution_count": 67,
   "metadata": {},
   "outputs": [
    {
     "data": {
      "text/plain": [
       "<AxesSubplot:xlabel='Month'>"
      ]
     },
     "execution_count": 67,
     "metadata": {},
     "output_type": "execute_result"
    },
    {
     "data": {
      "image/png": "[encoded data removed]",
      "text/plain": [
       "<Figure size 432x288 with 1 Axes>"
      ]
     },
     "metadata": {
      "needs_background": "light"
     },
     "output_type": "display_data"
    }
   ],
   "source": [
    "df['Seasonal First Difference'].plot() #plotting seasonal time series"
   ]
  },
  {
   "cell_type": "markdown",
   "metadata": {},
   "source": [
    "### Step 4:Auto Regressive Model"
   ]
  },
  {
   "cell_type": "markdown",
   "metadata": {},
   "source": [
    "#### Concept 6: What is auto regressive model?"
   ]
  },
  {
   "cell_type": "markdown",
   "metadata": {},
   "source": [
    "Autoregression is a process of regressing a variable on past values of itself."
   ]
  },
  {
   "cell_type": "code",
   "execution_count": 68,
   "metadata": {},
   "outputs": [
    {
     "data": {
      "image/png": "[encoded data removed]",
      "text/plain": [
       "<Figure size 432x288 with 1 Axes>"
      ]
     },
     "metadata": {
      "needs_background": "light"
     },
     "output_type": "display_data"
    }
   ],
   "source": [
    "from pandas.plotting import autocorrelation_plot\n",
    "autocorrelation_plot(df['#Passengers'])\n",
    "plt.show()\n",
    "\n",
    "#Autocorrelations gradually decay and estimate the degree to which white noise characterizes a series of data."
   ]
  },
  {
   "cell_type": "code",
   "execution_count": 69,
   "metadata": {},
   "outputs": [],
   "source": [
    "import statsmodels.api as sm\n",
    "from statsmodels.graphics.tsaplots import plot_acf, plot_pacf #pacf is partial auto correlation"
   ]
  },
  {
   "cell_type": "markdown",
   "metadata": {},
   "source": [
    "#### Concept 7: Difference between auto correlation and partial auto correlation"
   ]
  },
  {
   "cell_type": "markdown",
   "metadata": {},
   "source": [
    "Autocorrelation is a calculation of the correlation of the time series observations with values of the same series, but at previous times.The time steps at those previous times are referred to as lags. Partial Autocorrelation, on the other hand, summarizes the relationship between an observation in a time series with observations at previous time steps, but with the relationships of intervening observations removed.\n",
    "Essentially, the indirect correlations are removed."
   ]
  },
  {
   "cell_type": "code",
   "execution_count": 70,
   "metadata": {},
   "outputs": [
    {
     "data": {
      "image/png": "[encoded data removed]",
      "text/plain": [
       "<Figure size 864x576 with 2 Axes>"
      ]
     },
     "metadata": {
      "needs_background": "light"
     },
     "output_type": "display_data"
    }
   ],
   "source": [
    "#passing seasonal first difference data\n",
    "fig= plt.figure(figsize=(12,8))\n",
    "ax1=fig.add_subplot(211)\n",
    "fig=sm.graphics.tsa.plot_acf(df['Seasonal First Difference'].iloc[13:], lags=40,ax=ax1) #autocorrelation\n",
    "ax2=fig.add_subplot(212)\n",
    "fig=sm.graphics.tsa.plot_pacf(df['Seasonal First Difference'].iloc[13:], lags=40,ax=ax2) #partial autocorrelation\n",
    "\n",
    "#Why iloc :13, This is because the first 12 values are NaN.\n",
    "#lags value is taken randomly here"
   ]
  },
  {
   "cell_type": "markdown",
   "metadata": {},
   "source": [
    "#### Concept 8: What are p,d,q values and how to set them?"
   ]
  },
  {
   "cell_type": "markdown",
   "metadata": {},
   "source": [
    "For ARIMA we select 3 values- p:Auto Regression  model lags, d: differencing, q:Moving average lags\n",
    "As we can see in Partial Autocorrelation diagram, in row value 1, there is a sudden drop in height, hence set p=1\n",
    "As we can see in Autocorrelation diagram, graph decreases exponentially till row value 1, hence q=1\n",
    "We performed seasonal differencing only once. Hence d=1"
   ]
  },
  {
   "cell_type": "code",
   "execution_count": 71,
   "metadata": {},
   "outputs": [],
   "source": [
    "from statsmodels.tsa.arima_model import ARIMA\n"
   ]
  },
  {
   "cell_type": "code",
   "execution_count": 72,
   "metadata": {},
   "outputs": [
    {
     "name": "stderr",
     "output_type": "stream",
     "text": [
      "C:\\Users\\siba\\Anaconda2\\envs\\deeplearning\\lib\\site-packages\\statsmodels\\tsa\\arima_model.py:472: FutureWarning: \n",
      "statsmodels.tsa.arima_model.ARMA and statsmodels.tsa.arima_model.ARIMA have\n",
      "been deprecated in favor of statsmodels.tsa.arima.model.ARIMA (note the .\n",
      "between arima and model) and\n",
      "statsmodels.tsa.SARIMAX. These will be removed after the 0.12 release.\n",
      "\n",
      "statsmodels.tsa.arima.model.ARIMA makes use of the statespace framework and\n",
      "is both well tested and maintained.\n",
      "\n",
      "To silence this warning and continue using ARMA and ARIMA until they are\n",
      "removed, use:\n",
      "\n",
      "import warnings\n",
      "warnings.filterwarnings('ignore', 'statsmodels.tsa.arima_model.ARMA',\n",
      "                        FutureWarning)\n",
      "warnings.filterwarnings('ignore', 'statsmodels.tsa.arima_model.ARIMA',\n",
      "                        FutureWarning)\n",
      "\n",
      "  warnings.warn(ARIMA_DEPRECATION_WARN, FutureWarning)\n",
      "C:\\Users\\siba\\Anaconda2\\envs\\deeplearning\\lib\\site-packages\\statsmodels\\tsa\\base\\tsa_model.py:524: ValueWarning: No frequency information was provided, so inferred frequency MS will be used.\n",
      "  warnings.warn('No frequency information was'\n",
      "C:\\Users\\siba\\Anaconda2\\envs\\deeplearning\\lib\\site-packages\\statsmodels\\tsa\\base\\tsa_model.py:524: ValueWarning: No frequency information was provided, so inferred frequency MS will be used.\n",
      "  warnings.warn('No frequency information was'\n",
      "C:\\Users\\siba\\Anaconda2\\envs\\deeplearning\\lib\\site-packages\\statsmodels\\tsa\\arima_model.py:472: FutureWarning: \n",
      "statsmodels.tsa.arima_model.ARMA and statsmodels.tsa.arima_model.ARIMA have\n",
      "been deprecated in favor of statsmodels.tsa.arima.model.ARIMA (note the .\n",
      "between arima and model) and\n",
      "statsmodels.tsa.SARIMAX. These will be removed after the 0.12 release.\n",
      "\n",
      "statsmodels.tsa.arima.model.ARIMA makes use of the statespace framework and\n",
      "is both well tested and maintained.\n",
      "\n",
      "To silence this warning and continue using ARMA and ARIMA until they are\n",
      "removed, use:\n",
      "\n",
      "import warnings\n",
      "warnings.filterwarnings('ignore', 'statsmodels.tsa.arima_model.ARMA',\n",
      "                        FutureWarning)\n",
      "warnings.filterwarnings('ignore', 'statsmodels.tsa.arima_model.ARIMA',\n",
      "                        FutureWarning)\n",
      "\n",
      "  warnings.warn(ARIMA_DEPRECATION_WARN, FutureWarning)\n"
     ]
    }
   ],
   "source": [
    "model=ARIMA(df['#Passengers'],order=(1,1,1)) #order has p,d,q values\n",
    "model_fit=model.fit() #Model fitting is a measure of how well a machine learning model generalizes to similar data to that on which it was trained. "
   ]
  },
  {
   "cell_type": "code",
   "execution_count": 73,
   "metadata": {},
   "outputs": [
    {
     "data": {
      "text/html": [
       "<table class=\"simpletable\">\n",
       "<caption>ARIMA Model Results</caption>\n",
       "<tr>\n",
       "  <th>Dep. Variable:</th>   <td>D.#Passengers</td>  <th>  No. Observations:  </th>    <td>143</td>  \n",
       "</tr>\n",
       "<tr>\n",
       "  <th>Model:</th>          <td>ARIMA(1, 1, 1)</td>  <th>  Log Likelihood     </th> <td>-697.073</td>\n",
       "</tr>\n",
       "<tr>\n",
       "  <th>Method:</th>             <td>css-mle</td>     <th>  S.D. of innovations</th>  <td>31.338</td> \n",
       "</tr>\n",
       "<tr>\n",
       "  <th>Date:</th>          <td>Fri, 11 Jun 2021</td> <th>  AIC                </th> <td>1402.145</td>\n",
       "</tr>\n",
       "<tr>\n",
       "  <th>Time:</th>              <td>23:57:43</td>     <th>  BIC                </th> <td>1413.997</td>\n",
       "</tr>\n",
       "<tr>\n",
       "  <th>Sample:</th>           <td>02-01-1949</td>    <th>  HQIC               </th> <td>1406.961</td>\n",
       "</tr>\n",
       "<tr>\n",
       "  <th></th>                 <td>- 12-01-1960</td>   <th>                     </th>     <td> </td>   \n",
       "</tr>\n",
       "</table>\n",
       "<table class=\"simpletable\">\n",
       "<tr>\n",
       "           <td></td>              <th>coef</th>     <th>std err</th>      <th>z</th>      <th>P>|z|</th>  <th>[0.025</th>    <th>0.975]</th>  \n",
       "</tr>\n",
       "<tr>\n",
       "  <th>const</th>               <td>    2.6112</td> <td>    0.228</td> <td>   11.435</td> <td> 0.000</td> <td>    2.164</td> <td>    3.059</td>\n",
       "</tr>\n",
       "<tr>\n",
       "  <th>ar.L1.D.#Passengers</th> <td>    0.7400</td> <td>    0.058</td> <td>   12.778</td> <td> 0.000</td> <td>    0.626</td> <td>    0.854</td>\n",
       "</tr>\n",
       "<tr>\n",
       "  <th>ma.L1.D.#Passengers</th> <td>   -1.0000</td> <td>    0.019</td> <td>  -53.425</td> <td> 0.000</td> <td>   -1.037</td> <td>   -0.963</td>\n",
       "</tr>\n",
       "</table>\n",
       "<table class=\"simpletable\">\n",
       "<caption>Roots</caption>\n",
       "<tr>\n",
       "    <td></td>   <th>            Real</th>  <th>         Imaginary</th> <th>         Modulus</th>  <th>        Frequency</th>\n",
       "</tr>\n",
       "<tr>\n",
       "  <th>AR.1</th> <td>           1.3513</td> <td>          +0.0000j</td> <td>           1.3513</td> <td>           0.0000</td>\n",
       "</tr>\n",
       "<tr>\n",
       "  <th>MA.1</th> <td>           1.0000</td> <td>          +0.0000j</td> <td>           1.0000</td> <td>           0.0000</td>\n",
       "</tr>\n",
       "</table>"
      ],
      "text/plain": [
       "<class 'statsmodels.iolib.summary.Summary'>\n",
       "\"\"\"\n",
       "                             ARIMA Model Results                              \n",
       "==============================================================================\n",
       "Dep. Variable:          D.#Passengers   No. Observations:                  143\n",
       "Model:                 ARIMA(1, 1, 1)   Log Likelihood                -697.073\n",
       "Method:                       css-mle   S.D. of innovations             31.338\n",
       "Date:                Fri, 11 Jun 2021   AIC                           1402.145\n",
       "Time:                        23:57:43   BIC                           1413.997\n",
       "Sample:                    02-01-1949   HQIC                          1406.961\n",
       "                         - 12-01-1960                                         \n",
       "=======================================================================================\n",
       "                          coef    std err          z      P>|z|      [0.025      0.975]\n",
       "---------------------------------------------------------------------------------------\n",
       "const                   2.6112      0.228     11.435      0.000       2.164       3.059\n",
       "ar.L1.D.#Passengers     0.7400      0.058     12.778      0.000       0.626       0.854\n",
       "ma.L1.D.#Passengers    -1.0000      0.019    -53.425      0.000      -1.037      -0.963\n",
       "                                    Roots                                    \n",
       "=============================================================================\n",
       "                  Real          Imaginary           Modulus         Frequency\n",
       "-----------------------------------------------------------------------------\n",
       "AR.1            1.3513           +0.0000j            1.3513            0.0000\n",
       "MA.1            1.0000           +0.0000j            1.0000            0.0000\n",
       "-----------------------------------------------------------------------------\n",
       "\"\"\""
      ]
     },
     "execution_count": 73,
     "metadata": {},
     "output_type": "execute_result"
    }
   ],
   "source": [
    "model_fit.summary() #overview of the model coefficients and how well they fit, along with several other statistical measures."
   ]
  },
  {
   "cell_type": "code",
   "execution_count": 74,
   "metadata": {},
   "outputs": [
    {
     "data": {
      "text/plain": [
       "<AxesSubplot:xlabel='Month'>"
      ]
     },
     "execution_count": 74,
     "metadata": {},
     "output_type": "execute_result"
    },
    {
     "data": {
      "image/png": "[encoded data removed]",
      "text/plain": [
       "<Figure size 864x576 with 1 Axes>"
      ]
     },
     "metadata": {
      "needs_background": "light"
     },
     "output_type": "display_data"
    }
   ],
   "source": [
    "df['forecast']=model_fit.predict(start=130, end=143,dynamic=True) #predicting data using ARIMA\n",
    "df[['#Passengers','forecast']].plot(figsize=(12,8))\n",
    "\n",
    "#we are training it to predict for tail data (hence range is 130-143)"
   ]
  },
  {
   "cell_type": "markdown",
   "metadata": {},
   "source": [
    "#### Conclusion: "
   ]
  },
  {
   "cell_type": "markdown",
   "metadata": {},
   "source": [
    "As we can see that the forecast is not correctly calculated.\n",
    "This is because ARIMA doesn't work for seasonal data"
   ]
  },
  {
   "cell_type": "markdown",
   "metadata": {},
   "source": [
    "# Algorithm 3: SARIMA- Seasonal ARIMA"
   ]
  },
  {
   "cell_type": "markdown",
   "metadata": {},
   "source": [
    "#### Concept 1: What is Seasonal ARIMA?"
   ]
  },
  {
   "cell_type": "markdown",
   "metadata": {},
   "source": [
    "A seasonal ARIMA model is formed by including additional seasonal terms in the ARIMA models. The seasonal part of the model consists of terms that are similar to the non-seasonal components of the model, but involve backshifts of the seasonal period. Backshift notation is particularly useful when combining differences. Say quarterly (4 months), annually (12 months)"
   ]
  },
  {
   "cell_type": "code",
   "execution_count": 75,
   "metadata": {},
   "outputs": [],
   "source": [
    "import statsmodels.api as sm"
   ]
  },
  {
   "cell_type": "code",
   "execution_count": 76,
   "metadata": {},
   "outputs": [
    {
     "name": "stderr",
     "output_type": "stream",
     "text": [
      "C:\\Users\\siba\\Anaconda2\\envs\\deeplearning\\lib\\site-packages\\statsmodels\\tsa\\base\\tsa_model.py:524: ValueWarning: No frequency information was provided, so inferred frequency MS will be used.\n",
      "  warnings.warn('No frequency information was'\n",
      "C:\\Users\\siba\\Anaconda2\\envs\\deeplearning\\lib\\site-packages\\statsmodels\\tsa\\base\\tsa_model.py:524: ValueWarning: No frequency information was provided, so inferred frequency MS will be used.\n",
      "  warnings.warn('No frequency information was'\n"
     ]
    }
   ],
   "source": [
    "#run SARIMAX\n",
    "model=sm.tsa.statespace.SARIMAX(df['#Passengers'], order=(1,1,1), seasonal_order=(1,1,1,12)) #shift value for seasonal differencing is 12\n",
    "results=model.fit()"
   ]
  },
  {
   "cell_type": "code",
   "execution_count": 77,
   "metadata": {},
   "outputs": [
    {
     "data": {
      "text/plain": [
       "<AxesSubplot:xlabel='Month'>"
      ]
     },
     "execution_count": 77,
     "metadata": {},
     "output_type": "execute_result"
    },
    {
     "data": {
      "image/png": "[encoded data removed]",
      "text/plain": [
       "<Figure size 864x576 with 1 Axes>"
      ]
     },
     "metadata": {
      "needs_background": "light"
     },
     "output_type": "display_data"
    }
   ],
   "source": [
    "df['forecast']=results.predict(start=130,end=143,dynamic=True) #130,143 are indexes\n",
    "df[['#Passengers','forecast']].plot(figsize=(12,8))\n",
    "\n",
    "#prediction is given till 1961\n",
    "#But we want prediction beyond that"
   ]
  },
  {
   "cell_type": "code",
   "execution_count": 78,
   "metadata": {},
   "outputs": [],
   "source": [
    "#To check future forecasting\n",
    "from pandas.tseries.offsets import DateOffset\n",
    "future_dates=[df.index[-1]+ DateOffset(months=x)for x in range(0,24)]"
   ]
  },
  {
   "cell_type": "code",
   "execution_count": 79,
   "metadata": {},
   "outputs": [],
   "source": [
    "future_datest_df=pd.DataFrame(index=future_dates[1:], columns=df.columns) #We load the above predicted data into a dataframe"
   ]
  },
  {
   "cell_type": "code",
   "execution_count": 80,
   "metadata": {},
   "outputs": [
    {
     "data": {
      "text/html": [
       "<div>\n",
       "<style scoped>\n",
       "    .dataframe tbody tr th:only-of-type {\n",
       "        vertical-align: middle;\n",
       "    }\n",
       "\n",
       "    .dataframe tbody tr th {\n",
       "        vertical-align: top;\n",
       "    }\n",
       "\n",
       "    .dataframe thead th {\n",
       "        text-align: right;\n",
       "    }\n",
       "</style>\n",
       "<table border=\"1\" class=\"dataframe\">\n",
       "  <thead>\n",
       "    <tr style=\"text-align: right;\">\n",
       "      <th></th>\n",
       "      <th>#Passengers</th>\n",
       "      <th>Passengers First Difference</th>\n",
       "      <th>Seasonal First Difference</th>\n",
       "      <th>forecast</th>\n",
       "    </tr>\n",
       "  </thead>\n",
       "  <tbody>\n",
       "    <tr>\n",
       "      <th>1962-07-01</th>\n",
       "      <td>NaN</td>\n",
       "      <td>NaN</td>\n",
       "      <td>NaN</td>\n",
       "      <td>NaN</td>\n",
       "    </tr>\n",
       "    <tr>\n",
       "      <th>1962-08-01</th>\n",
       "      <td>NaN</td>\n",
       "      <td>NaN</td>\n",
       "      <td>NaN</td>\n",
       "      <td>NaN</td>\n",
       "    </tr>\n",
       "    <tr>\n",
       "      <th>1962-09-01</th>\n",
       "      <td>NaN</td>\n",
       "      <td>NaN</td>\n",
       "      <td>NaN</td>\n",
       "      <td>NaN</td>\n",
       "    </tr>\n",
       "    <tr>\n",
       "      <th>1962-10-01</th>\n",
       "      <td>NaN</td>\n",
       "      <td>NaN</td>\n",
       "      <td>NaN</td>\n",
       "      <td>NaN</td>\n",
       "    </tr>\n",
       "    <tr>\n",
       "      <th>1962-11-01</th>\n",
       "      <td>NaN</td>\n",
       "      <td>NaN</td>\n",
       "      <td>NaN</td>\n",
       "      <td>NaN</td>\n",
       "    </tr>\n",
       "  </tbody>\n",
       "</table>\n",
       "</div>"
      ],
      "text/plain": [
       "           #Passengers Passengers First Difference Seasonal First Difference  \\\n",
       "1962-07-01         NaN                         NaN                       NaN   \n",
       "1962-08-01         NaN                         NaN                       NaN   \n",
       "1962-09-01         NaN                         NaN                       NaN   \n",
       "1962-10-01         NaN                         NaN                       NaN   \n",
       "1962-11-01         NaN                         NaN                       NaN   \n",
       "\n",
       "           forecast  \n",
       "1962-07-01      NaN  \n",
       "1962-08-01      NaN  \n",
       "1962-09-01      NaN  \n",
       "1962-10-01      NaN  \n",
       "1962-11-01      NaN  "
      ]
     },
     "execution_count": 80,
     "metadata": {},
     "output_type": "execute_result"
    }
   ],
   "source": [
    "future_datest_df.tail()"
   ]
  },
  {
   "cell_type": "code",
   "execution_count": 81,
   "metadata": {},
   "outputs": [],
   "source": [
    "future_df=pd.concat([df,future_datest_df]) #we concat the newly created dataframe with existing dataframe"
   ]
  },
  {
   "cell_type": "code",
   "execution_count": 82,
   "metadata": {},
   "outputs": [
    {
     "data": {
      "text/plain": [
       "<AxesSubplot:>"
      ]
     },
     "execution_count": 82,
     "metadata": {},
     "output_type": "execute_result"
    },
    {
     "data": {
      "image/png": "[encoded data removed]",
      "text/plain": [
       "<Figure size 864x576 with 1 Axes>"
      ]
     },
     "metadata": {
      "needs_background": "light"
     },
     "output_type": "display_data"
    }
   ],
   "source": [
    "future_df['forecast']= results.predict(start=144, end=160, dynamic=True) #Now we carry out prediction again but this time range=144,160\n",
    "future_df[['#Passengers','forecast']].plot(figsize=(12,8))\n",
    "\n",
    "#We find that predictions are available for years exceeding 1961 too"
   ]
  }
 ],
 "metadata": {
  "kernelspec": {
   "display_name": "Python 3",
   "language": "python",
   "name": "python3"
  },
  "language_info": {
   "codemirror_mode": {
    "name": "ipython",
    "version": 3
   },
   "file_extension": ".py",
   "mimetype": "text/x-python",
   "name": "python",
   "nbconvert_exporter": "python",
   "pygments_lexer": "ipython3",
   "version": "3.8.8"
  }
 },
 "nbformat": 4,
 "nbformat_minor": 2
}
